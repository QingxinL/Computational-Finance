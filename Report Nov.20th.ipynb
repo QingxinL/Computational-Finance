{
 "cells": [
  {
   "cell_type": "code",
   "execution_count": 1,
   "metadata": {
    "collapsed": true
   },
   "outputs": [],
   "source": [
    "import pandas as pd\n",
    "import numpy as np\n",
    "import scipy\n",
    "import matplotlib.pyplot as plt\n",
    "import seaborn as sns \n",
    "%matplotlib inline \n",
    "import datetime\n",
    "import calendar\n",
    "import statsmodels.api as sm"
   ]
  },
  {
   "cell_type": "code",
   "execution_count": 56,
   "metadata": {
    "collapsed": true
   },
   "outputs": [],
   "source": [
    "def clean_data(df):\n",
    "    df.Date = pd.to_datetime(df.Date)\n",
    "\n",
    "    df['day_of_week'] = df['Date'].dt.weekday_name\n",
    "\n",
    "    df = df.drop(['High','Low','Volume'],axis=1)\n",
    "\n",
    "    df['Consecutive trading day'] = df['day_of_week'].shift(1) + ' to ' + df['day_of_week']\n",
    "\n",
    "    df['Overnight return'] = (df['Open'] - df['Adj Close'].shift(1)/df['Adj Close'].shift(1))*100\n",
    "    \n",
    "    df['Return'] = ((df['Close'] - df['Close'].shift(1))/df['Close'].shift(1))*100\n",
    "    \n",
    "    df = df.dropna()\n",
    "\n",
    "    return df"
   ]
  },
  {
   "cell_type": "code",
   "execution_count": 46,
   "metadata": {
    "collapsed": true
   },
   "outputs": [],
   "source": [
    "def do_OLS(df):\n",
    "    df = df.join(pd.get_dummies(df['day_of_week']))\n",
    "    df['Difference in return'] = df['Return'] - df['Return'].shift(1) # include the lag value\n",
    "    df = df.dropna()\n",
    "    days = df[['Monday','Tuesday','Wednesday','Thursday','Friday']]\n",
    "    days = sm.add_constant(days)\n",
    "\n",
    "    OLS = sm.OLS(df['Difference in return'],days)\n",
    "    \n",
    "    result = OLS.fit()\n",
    "    \n",
    "    return result.params"
   ]
  },
  {
   "cell_type": "code",
   "execution_count": 59,
   "metadata": {
    "collapsed": true
   },
   "outputs": [],
   "source": [
    "# DIDN'T DO YET - Day of the week effect in Overnight Return \n",
    "def do_OLS_overnight(df):\n",
    "    df = df.join(pd.get_dummies(df['Consecutive trading day']))\n",
    "    df['Difference in overnight return'] = df['Overnight return'] - df['Overnight return'].shift(1)\n",
    "    df = df.dropna()\n",
    "    days = df[['Monday to Tuesday','Tuesday to Wednesday','Wednesday to Thursday','Thursday to Friday','Friday to Monday']]\n",
    "    days = sm.add_constant(days)\n",
    "\n",
    "    OLS = sm.OLS(df['Difference in overnight return'],days)\n",
    "    \n",
    "    result = OLS.fit()\n",
    "    \n",
    "    return result.params"
   ]
  },
  {
   "cell_type": "markdown",
   "metadata": {},
   "source": [
    "## Day of the week effect in Return (difference in closing price) with Ordinary Least Square\n",
    "- **1997 - 2007: GSPC, VIX**\n",
    "- **2007 - end of 2008: GSPC, VIX**\n",
    "- **2009 - 2017: GSPC, VIX, VXX **\n"
   ]
  },
  {
   "cell_type": "markdown",
   "metadata": {},
   "source": [
    "### 1997 - 2007: "
   ]
  },
  {
   "cell_type": "code",
   "execution_count": 57,
   "metadata": {},
   "outputs": [],
   "source": [
    "GSPC_P1 = pd.read_csv('/Users/Lee/Desktop/research-1/^GSPC_1997-2007.csv')\n",
    "GSPC_P1 = clean_data(GSPC_P1)\n",
    "GSPC_P1_summary = do_OLS(GSPC_P1)"
   ]
  },
  {
   "cell_type": "code",
   "execution_count": 58,
   "metadata": {
    "collapsed": true
   },
   "outputs": [],
   "source": [
    "VIX_P1 = pd.read_csv('/Users/Lee/Desktop/research-1/^VIX_1997-2007.csv')\n",
    "VIX_P1 = clean_data(VIX_P1)\n",
    "VIX_P1_summary = do_OLS(VIX_P1)"
   ]
  },
  {
   "cell_type": "code",
   "execution_count": 59,
   "metadata": {
    "collapsed": true
   },
   "outputs": [],
   "source": [
    "d = {'GSPC':GSPC_P1_summary, 'VIX':VIX_P1_summary}\n",
    "before_crisis = pd.DataFrame(d).transpose()"
   ]
  },
  {
   "cell_type": "code",
   "execution_count": 60,
   "metadata": {},
   "outputs": [
    {
     "data": {
      "text/html": [
       "<div>\n",
       "<table border=\"1\" class=\"dataframe\">\n",
       "  <thead>\n",
       "    <tr style=\"text-align: right;\">\n",
       "      <th></th>\n",
       "      <th>const</th>\n",
       "      <th>Monday</th>\n",
       "      <th>Tuesday</th>\n",
       "      <th>Wednesday</th>\n",
       "      <th>Thursday</th>\n",
       "      <th>Friday</th>\n",
       "    </tr>\n",
       "  </thead>\n",
       "  <tbody>\n",
       "    <tr>\n",
       "      <th>GSPC</th>\n",
       "      <td>-0.000310</td>\n",
       "      <td>0.030662</td>\n",
       "      <td>0.008044</td>\n",
       "      <td>-0.015268</td>\n",
       "      <td>-0.012074</td>\n",
       "      <td>-0.011674</td>\n",
       "    </tr>\n",
       "    <tr>\n",
       "      <th>VIX</th>\n",
       "      <td>0.048151</td>\n",
       "      <td>3.398603</td>\n",
       "      <td>-2.240443</td>\n",
       "      <td>-0.364558</td>\n",
       "      <td>0.489330</td>\n",
       "      <td>-1.234782</td>\n",
       "    </tr>\n",
       "  </tbody>\n",
       "</table>\n",
       "</div>"
      ],
      "text/plain": [
       "         const    Monday   Tuesday  Wednesday  Thursday    Friday\n",
       "GSPC -0.000310  0.030662  0.008044  -0.015268 -0.012074 -0.011674\n",
       "VIX   0.048151  3.398603 -2.240443  -0.364558  0.489330 -1.234782"
      ]
     },
     "execution_count": 60,
     "metadata": {},
     "output_type": "execute_result"
    }
   ],
   "source": [
    "before_crisis"
   ]
  },
  {
   "cell_type": "markdown",
   "metadata": {},
   "source": [
    "### 2007 - end of 2008"
   ]
  },
  {
   "cell_type": "code",
   "execution_count": 61,
   "metadata": {
    "collapsed": true
   },
   "outputs": [],
   "source": [
    "GSPC_P2 = pd.read_csv('/Users/Lee/Desktop/research-1/^GSPC_2007-2008.csv')\n",
    "GSPC_P2 = clean_data(GSPC_P2)\n",
    "GSPC_P2_summary = do_OLS(GSPC_P2)"
   ]
  },
  {
   "cell_type": "code",
   "execution_count": 62,
   "metadata": {
    "collapsed": true
   },
   "outputs": [],
   "source": [
    "VIX_P2 = pd.read_csv('/Users/Lee/Desktop/research-1/^VIX_2007-2008.csv')\n",
    "VIX_P2 = clean_data(VIX_P2)\n",
    "VIX_P2_summary = do_OLS(VIX_P2)"
   ]
  },
  {
   "cell_type": "code",
   "execution_count": 63,
   "metadata": {
    "collapsed": true
   },
   "outputs": [],
   "source": [
    "d_2 = {'GSPC':GSPC_P2_summary,'VIX':VIX_P2_summary}\n",
    "during_crisis = pd.DataFrame(d_2).transpose()"
   ]
  },
  {
   "cell_type": "code",
   "execution_count": 64,
   "metadata": {},
   "outputs": [
    {
     "data": {
      "text/html": [
       "<div>\n",
       "<table border=\"1\" class=\"dataframe\">\n",
       "  <thead>\n",
       "    <tr style=\"text-align: right;\">\n",
       "      <th></th>\n",
       "      <th>const</th>\n",
       "      <th>Monday</th>\n",
       "      <th>Tuesday</th>\n",
       "      <th>Wednesday</th>\n",
       "      <th>Thursday</th>\n",
       "      <th>Friday</th>\n",
       "    </tr>\n",
       "  </thead>\n",
       "  <tbody>\n",
       "    <tr>\n",
       "      <th>GSPC</th>\n",
       "      <td>0.000975</td>\n",
       "      <td>-0.238782</td>\n",
       "      <td>0.418405</td>\n",
       "      <td>-0.416849</td>\n",
       "      <td>0.073553</td>\n",
       "      <td>0.164649</td>\n",
       "    </tr>\n",
       "    <tr>\n",
       "      <th>VIX</th>\n",
       "      <td>0.012624</td>\n",
       "      <td>1.248902</td>\n",
       "      <td>-2.106905</td>\n",
       "      <td>0.808401</td>\n",
       "      <td>0.391051</td>\n",
       "      <td>-0.328825</td>\n",
       "    </tr>\n",
       "  </tbody>\n",
       "</table>\n",
       "</div>"
      ],
      "text/plain": [
       "         const    Monday   Tuesday  Wednesday  Thursday    Friday\n",
       "GSPC  0.000975 -0.238782  0.418405  -0.416849  0.073553  0.164649\n",
       "VIX   0.012624  1.248902 -2.106905   0.808401  0.391051 -0.328825"
      ]
     },
     "execution_count": 64,
     "metadata": {},
     "output_type": "execute_result"
    }
   ],
   "source": [
    "during_crisis"
   ]
  },
  {
   "cell_type": "markdown",
   "metadata": {},
   "source": [
    "### 2009 - 2017 "
   ]
  },
  {
   "cell_type": "code",
   "execution_count": 40,
   "metadata": {
    "collapsed": true
   },
   "outputs": [],
   "source": [
    "GSPC_P3 = pd.read_csv('/Users/Lee/Desktop/research-1/^GSPC_2009-now.csv')\n",
    "GSPC_P3 = clean_data(GSPC_P3)\n",
    "GSPC_P3_summary = do_OLS(GSPC_P3)"
   ]
  },
  {
   "cell_type": "code",
   "execution_count": 41,
   "metadata": {
    "collapsed": true
   },
   "outputs": [],
   "source": [
    "VIX_P3 = pd.read_csv('/Users/Lee/Desktop/research-1/^VIX_2009-now.csv')\n",
    "VIX_P3 = clean_data(VIX_P3)\n",
    "VIX_P3_summary = do_OLS(VIX_P3)"
   ]
  },
  {
   "cell_type": "code",
   "execution_count": 42,
   "metadata": {
    "collapsed": true
   },
   "outputs": [],
   "source": [
    "VXX = pd.read_csv('/Users/Lee/Desktop/research-1/VXX_2009-now.csv')\n",
    "VXX = clean_data(VXX)\n",
    "VXX_summary = do_OLS(VXX)"
   ]
  },
  {
   "cell_type": "code",
   "execution_count": 43,
   "metadata": {
    "collapsed": true
   },
   "outputs": [],
   "source": [
    "d_3 = {'GSPC':GSPC_P3_summary, 'VIX':VIX_P3_summary, 'VXX':VXX_summary}\n",
    "after_crisis = pd.DataFrame(d_3).transpose()"
   ]
  },
  {
   "cell_type": "code",
   "execution_count": 44,
   "metadata": {},
   "outputs": [
    {
     "data": {
      "text/html": [
       "<div>\n",
       "<table border=\"1\" class=\"dataframe\">\n",
       "  <thead>\n",
       "    <tr style=\"text-align: right;\">\n",
       "      <th></th>\n",
       "      <th>const</th>\n",
       "      <th>Monday</th>\n",
       "      <th>Tuesday</th>\n",
       "      <th>Wednesday</th>\n",
       "      <th>Thursday</th>\n",
       "      <th>Friday</th>\n",
       "    </tr>\n",
       "  </thead>\n",
       "  <tbody>\n",
       "    <tr>\n",
       "      <th>GSPC</th>\n",
       "      <td>-0.000048</td>\n",
       "      <td>0.006413</td>\n",
       "      <td>0.054503</td>\n",
       "      <td>0.004029</td>\n",
       "      <td>-0.013493</td>\n",
       "      <td>-0.051499</td>\n",
       "    </tr>\n",
       "    <tr>\n",
       "      <th>VIX</th>\n",
       "      <td>0.029061</td>\n",
       "      <td>1.932122</td>\n",
       "      <td>-1.094742</td>\n",
       "      <td>-0.170557</td>\n",
       "      <td>0.130796</td>\n",
       "      <td>-0.768558</td>\n",
       "    </tr>\n",
       "    <tr>\n",
       "      <th>VXX</th>\n",
       "      <td>-0.007254</td>\n",
       "      <td>-0.485737</td>\n",
       "      <td>0.170922</td>\n",
       "      <td>0.177322</td>\n",
       "      <td>0.029475</td>\n",
       "      <td>0.100763</td>\n",
       "    </tr>\n",
       "  </tbody>\n",
       "</table>\n",
       "</div>"
      ],
      "text/plain": [
       "         const    Monday   Tuesday  Wednesday  Thursday    Friday\n",
       "GSPC -0.000048  0.006413  0.054503   0.004029 -0.013493 -0.051499\n",
       "VIX   0.029061  1.932122 -1.094742  -0.170557  0.130796 -0.768558\n",
       "VXX  -0.007254 -0.485737  0.170922   0.177322  0.029475  0.100763"
      ]
     },
     "execution_count": 44,
     "metadata": {},
     "output_type": "execute_result"
    }
   ],
   "source": [
    "after_crisis"
   ]
  },
  {
   "cell_type": "markdown",
   "metadata": {
    "collapsed": true
   },
   "source": [
    "### Summary:"
   ]
  },
  {
   "cell_type": "markdown",
   "metadata": {},
   "source": [
    "We test the presence of day of the week effect in stock market return during the January 1997 and November 2017 periods by partition the periods into three periods because of the financial crisis in 2008: from January 1997 to January 2007, from January 2007 to the end of 2008, from 2009 to November 2017.\n",
    "\n",
    "\n",
    "We use the S&P 500 Stock Index, S&P 500 Volatility Index (VIX) for all three periods, and iPath S&P 500 VIX Short-Term Futures Index (VXX) for the period since 2009. \n",
    "\n",
    "\n",
    "By employing the OLS model, we find for S&P Stock Index, before 2007, Monday has the highest return, Wednesday has the lowest return, from 2007 to 2008, Tuesday has the highest return, Wednesday has the lowest return, after 2008, Tuesday has the highest return, Friday has the lowest return. For VIX, Monday has the highest return and Tuesday has the lowest return regardless of the periods. For VXX, Wednesday has the highest return and Monday has the lowest return."
   ]
  }
 ],
 "metadata": {
  "kernelspec": {
   "display_name": "Python 3",
   "language": "python",
   "name": "python3"
  },
  "language_info": {
   "codemirror_mode": {
    "name": "ipython",
    "version": 3
   },
   "file_extension": ".py",
   "mimetype": "text/x-python",
   "name": "python",
   "nbconvert_exporter": "python",
   "pygments_lexer": "ipython3",
   "version": "3.6.1"
  }
 },
 "nbformat": 4,
 "nbformat_minor": 2
}
