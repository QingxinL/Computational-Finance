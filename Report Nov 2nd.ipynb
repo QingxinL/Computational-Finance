{
 "cells": [
  {
   "cell_type": "code",
   "execution_count": 1,
   "metadata": {
    "collapsed": true
   },
   "outputs": [],
   "source": [
    "import pandas as pd\n",
    "import numpy as np\n",
    "import scipy\n",
    "import matplotlib.pyplot as plt\n",
    "import seaborn as sns \n",
    "%matplotlib inline \n",
    "import datetime\n",
    "import calendar"
   ]
  },
  {
   "cell_type": "code",
   "execution_count": 2,
   "metadata": {
    "collapsed": true
   },
   "outputs": [],
   "source": [
    "def clean_data(df):\n",
    "    df.Date = pd.to_datetime(df.Date)\n",
    "\n",
    "    df['day_of_week'] = df['Date'].dt.weekday_name\n",
    "\n",
    "    df = df.drop(['High','Low','Close','Volume'],axis=1)\n",
    "\n",
    "    df['Consecutive trading day'] = df['day_of_week'].shift(1) + ' to ' + df['day_of_week']\n",
    "\n",
    "    df['Overnight return'] = df['Open'] - df['Adj Close'].shift(1)\n",
    "\n",
    "    df['Overnight % change'] = (df['Overnight return']/df['Adj Close'].shift(1))*100\n",
    "\n",
    "    df['Overnight Volatility'] = df['Overnight % change'].rolling(window=20).std()\n",
    "\n",
    "    df['Overnight Variance'] = df['Overnight Volatility'] ** 2\n",
    "    \n",
    "    df = df.dropna()\n",
    "\n",
    "    return df"
   ]
  },
  {
   "cell_type": "code",
   "execution_count": 3,
   "metadata": {
    "collapsed": true
   },
   "outputs": [],
   "source": [
    "IXIC = pd.read_csv('/Users/Lee/Desktop/research-1/^IXIC-2.csv')\n",
    "GSPC = pd.read_csv('/Users/Lee/Desktop/research-1/^GSPC-2.csv')"
   ]
  },
  {
   "cell_type": "code",
   "execution_count": 4,
   "metadata": {
    "collapsed": true
   },
   "outputs": [],
   "source": [
    "IXIC = clean_data(IXIC)\n",
    "GSPC = clean_data(GSPC)"
   ]
  },
  {
   "cell_type": "code",
   "execution_count": 5,
   "metadata": {},
   "outputs": [],
   "source": [
    "IXIC['Inday return'] = ((IXIC['Adj Close'] - IXIC['Open'])/IXIC['Open'])*100"
   ]
  },
  {
   "cell_type": "markdown",
   "metadata": {},
   "source": [
    "## For IXIC:"
   ]
  },
  {
   "cell_type": "code",
   "execution_count": 6,
   "metadata": {
    "collapsed": true
   },
   "outputs": [],
   "source": [
    "conditional = [IXIC.groupby('day_of_week')]\n",
    "mean = [cond.mean() for cond in conditional]\n",
    "var = [cond.var() for cond in conditional]"
   ]
  },
  {
   "cell_type": "code",
   "execution_count": 7,
   "metadata": {},
   "outputs": [
    {
     "data": {
      "text/plain": [
       "[                    Open    Adj Close  Overnight return  Overnight % change  \\\n",
       " day_of_week                                                                   \n",
       " Friday       2837.175743  2836.235049          1.776173            0.046525   \n",
       " Monday       2832.420275  2830.604104          1.158587            0.052180   \n",
       " Thursday     2838.907390  2839.278197          1.429080            0.044599   \n",
       " Tuesday      2835.171240  2834.039780          2.281350            0.084066   \n",
       " Wednesday    2834.523230  2834.998560          1.339198            0.043472   \n",
       " \n",
       "              Overnight Volatility  Overnight Variance  Inday return  \n",
       " day_of_week                                                          \n",
       " Friday                   0.676698            0.630570     -0.023829  \n",
       " Monday                   0.676517            0.628639     -0.070302  \n",
       " Thursday                 0.669991            0.621735      0.014640  \n",
       " Tuesday                  0.674133            0.625266     -0.018769  \n",
       " Wednesday                0.674662            0.626792      0.039578  ]"
      ]
     },
     "execution_count": 7,
     "metadata": {},
     "output_type": "execute_result"
    }
   ],
   "source": [
    "mean"
   ]
  },
  {
   "cell_type": "markdown",
   "metadata": {},
   "source": [
    "**The table shows conditional mean of the overnight return and in day return (condition on the day of the week). **\n",
    "\n",
    "**From the table, Tuesday has the highest mean of overnight return (2.28), Monday has the lowest mean of overnight return (1.15).**\n",
    "\n",
    "** Also, Wednesday has the highest mean of in day return(0.04), Monday has the lowest mean of in day return (-0.07), which is consistent with the paper's conclusion.**"
   ]
  },
  {
   "cell_type": "markdown",
   "metadata": {},
   "source": [
    "** Barttlet's test - test if different day's variance of the return is the same** "
   ]
  },
  {
   "cell_type": "code",
   "execution_count": 8,
   "metadata": {},
   "outputs": [
    {
     "data": {
      "text/plain": [
       "BartlettResult(statistic=39.723593737728336, pvalue=4.93722513786907e-08)"
      ]
     },
     "execution_count": 8,
     "metadata": {},
     "output_type": "execute_result"
    }
   ],
   "source": [
    "scipy.stats.bartlett(IXIC.loc[IXIC['day_of_week']=='Monday']['Overnight % change'],\n",
    "                    IXIC.loc[IXIC['day_of_week']=='Tuesday']['Overnight % change'],\n",
    "                    IXIC.loc[IXIC['day_of_week']=='Wednesday']['Overnight % change'],\n",
    "                    IXIC.loc[IXIC['day_of_week']=='Thursday']['Overnight % change'],\n",
    "                    IXIC.loc[IXIC['day_of_week']=='Friday']['Overnight % change'])"
   ]
  },
  {
   "cell_type": "markdown",
   "metadata": {},
   "source": [
    "** p = 4.9e-08 < 0.01, we reject null hypothesis that the variance of the return among different day of the week is the same, conclude the variance of the return is different (the volatility is different) ** "
   ]
  },
  {
   "cell_type": "markdown",
   "metadata": {},
   "source": [
    "## For old data of GSPC: Jan.1973 - Oct.1997, exclude 10 days before and after Oct.19 1987 "
   ]
  },
  {
   "cell_type": "code",
   "execution_count": 9,
   "metadata": {
    "collapsed": true
   },
   "outputs": [],
   "source": [
    "GSPC_OLD = pd.read_csv('/Users/Lee/Desktop/research-1/^GSPC-old.csv') \n",
    "# old data same as the paper "
   ]
  },
  {
   "cell_type": "code",
   "execution_count": 10,
   "metadata": {
    "collapsed": true
   },
   "outputs": [],
   "source": [
    "GSPC_OLD = clean_data(GSPC_OLD)\n",
    "GSPC_OLD_after = GSPC_OLD[GSPC_OLD['Date']>'1987-10-24']\n",
    "GSPC_OLD_before = GSPC_OLD[GSPC_OLD['Date']<'1987-10-14']\n",
    "GSPC_OLD = pd.concat([GSPC_OLD_before, GSPC_OLD_after])\n",
    "GSPC_OLD['Inday return'] = ((GSPC_OLD['Adj Close'] - GSPC_OLD['Open'])/GSPC_OLD['Open'])*100"
   ]
  },
  {
   "cell_type": "code",
   "execution_count": 11,
   "metadata": {
    "collapsed": true
   },
   "outputs": [],
   "source": [
    "conditional_old = [GSPC_OLD.groupby('day_of_week')]\n",
    "mean_old = [cond.mean() for cond in conditional_old]\n",
    "var_old = [cond.var() for cond in conditional_old]"
   ]
  },
  {
   "cell_type": "code",
   "execution_count": 12,
   "metadata": {},
   "outputs": [
    {
     "data": {
      "text/plain": [
       "[                   Open   Adj Close  Overnight return  Overnight % change  \\\n",
       " day_of_week                                                                 \n",
       " Friday       264.731746  264.839984          0.002671            0.003598   \n",
       " Monday       264.504395  264.640101         -0.010664           -0.010478   \n",
       " Thursday     265.485560  265.529408          0.000904            0.001130   \n",
       " Tuesday      265.748075  265.986025          0.000699            0.001548   \n",
       " Wednesday    264.814544  265.021187         -0.002807           -0.002419   \n",
       " \n",
       "              Overnight Volatility  Overnight Variance  Inday return  \n",
       " day_of_week                                                          \n",
       " Friday                   0.050005            0.010644      0.047872  \n",
       " Monday                   0.049528            0.010332     -0.003803  \n",
       " Thursday                 0.048359            0.010278      0.028271  \n",
       " Tuesday                  0.049232            0.010470      0.053933  \n",
       " Wednesday                0.049795            0.010769      0.084116  ]"
      ]
     },
     "execution_count": 12,
     "metadata": {},
     "output_type": "execute_result"
    }
   ],
   "source": [
    "mean_old"
   ]
  },
  {
   "cell_type": "markdown",
   "metadata": {},
   "source": [
    "** From the table, the highest daily return is on Wednesday (0.084), the lowest daily return is on Monday(-0.0038), which agrees with the paper's result** "
   ]
  },
  {
   "cell_type": "code",
   "execution_count": 13,
   "metadata": {},
   "outputs": [
    {
     "data": {
      "text/plain": [
       "BartlettResult(statistic=32.519662750404848, pvalue=1.4978954636015525e-06)"
      ]
     },
     "execution_count": 13,
     "metadata": {},
     "output_type": "execute_result"
    }
   ],
   "source": [
    "scipy.stats.bartlett(GSPC_OLD.loc[GSPC_OLD['day_of_week']=='Monday']['Inday return'],\n",
    "                    GSPC_OLD.loc[GSPC_OLD['day_of_week']=='Tuesday']['Inday return'],\n",
    "                    GSPC_OLD.loc[GSPC_OLD['day_of_week']=='Wednesday']['Inday return'],\n",
    "                    GSPC_OLD.loc[GSPC_OLD['day_of_week']=='Thursday']['Inday return'],\n",
    "                    GSPC_OLD.loc[GSPC_OLD['day_of_week']=='Friday']['Inday return'])"
   ]
  },
  {
   "cell_type": "markdown",
   "metadata": {},
   "source": [
    "** Do the Bartlett test on the conditional mean,p = 1.5e-06 < 0.01, which means the mean of the return is significantly different on 1% level, condition on the day of the week. **"
   ]
  },
  {
   "cell_type": "code",
   "execution_count": 14,
   "metadata": {
    "collapsed": true
   },
   "outputs": [],
   "source": [
    "import arch"
   ]
  },
  {
   "cell_type": "markdown",
   "metadata": {},
   "source": [
    "### GARCH(1,1): (standard GARCH model on in day return data)"
   ]
  },
  {
   "cell_type": "code",
   "execution_count": 15,
   "metadata": {},
   "outputs": [
    {
     "name": "stdout",
     "output_type": "stream",
     "text": [
      "Iteration:      5,   Func. Count:     40,   Neg. LLF: 7537.859245356119\n",
      "Iteration:     10,   Func. Count:     74,   Neg. LLF: 7534.455477535987\n",
      "Optimization terminated successfully.    (Exit mode 0)\n",
      "            Current function value: 7534.453692966564\n",
      "            Iterations: 12\n",
      "            Function evaluations: 86\n",
      "            Gradient evaluations: 12\n"
     ]
    }
   ],
   "source": [
    "am = arch.arch_model(GSPC_OLD['Inday return'])\n",
    "res = am.fit(5)\n",
    "GSPC_OLD['forecast_vol'] = np.sqrt(res.params['omega'] + res.params['alpha[1]'] * res.resid ** 2\n",
    "                                  + res.params['beta[1]'] * res.conditional_volatility ** 2)\n",
    "GSPC_OLD['Forecast_vol'] = GSPC_OLD['forecast_vol'].shift(1)\n",
    "GSPC_OLD.drop(['forecast_vol'],axis=1,inplace=True)\n"
   ]
  },
  {
   "cell_type": "code",
   "execution_count": 16,
   "metadata": {},
   "outputs": [
    {
     "data": {
      "text/plain": [
       "mu          0.043070\n",
       "omega       0.004905\n",
       "alpha[1]    0.036301\n",
       "beta[1]     0.957480\n",
       "Name: params, dtype: float64"
      ]
     },
     "execution_count": 16,
     "metadata": {},
     "output_type": "execute_result"
    }
   ],
   "source": [
    "res.params"
   ]
  },
  {
   "cell_type": "markdown",
   "metadata": {},
   "source": [
    "** alpha[1] is VB, beta[1] is VA, omega is the constant VC, close to the result in the paper (slightly different because they used log return)**"
   ]
  },
  {
   "cell_type": "markdown",
   "metadata": {},
   "source": [
    "### arch package in python doesn't support exogenous regressor in the conditional variance equation, cannot get the coefficients of the day of the week (dummy variables) "
   ]
  },
  {
   "cell_type": "code",
   "execution_count": 17,
   "metadata": {
    "collapsed": true
   },
   "outputs": [],
   "source": [
    "a = pd.get_dummies(GSPC_OLD['day_of_week'])"
   ]
  },
  {
   "cell_type": "code",
   "execution_count": 18,
   "metadata": {
    "collapsed": true
   },
   "outputs": [],
   "source": [
    "am_2 = arch.arch_model(y=GSPC_OLD['Inday return'],x=a)"
   ]
  },
  {
   "cell_type": "code",
   "execution_count": 19,
   "metadata": {},
   "outputs": [
    {
     "name": "stdout",
     "output_type": "stream",
     "text": [
      "Iteration:      5,   Func. Count:     40,   Neg. LLF: 7537.859245356119\n",
      "Iteration:     10,   Func. Count:     74,   Neg. LLF: 7534.455477535987\n",
      "Optimization terminated successfully.    (Exit mode 0)\n",
      "            Current function value: 7534.453692966564\n",
      "            Iterations: 12\n",
      "            Function evaluations: 86\n",
      "            Gradient evaluations: 12\n"
     ]
    }
   ],
   "source": [
    "res_2 = am_2.fit(5)"
   ]
  },
  {
   "cell_type": "code",
   "execution_count": 20,
   "metadata": {},
   "outputs": [
    {
     "data": {
      "text/plain": [
       "<bound method ARCHModelResult.summary of                      Constant Mean - GARCH Model Results                      \n",
       "==============================================================================\n",
       "Dep. Variable:           Inday return   R-squared:                      -0.000\n",
       "Mean Model:             Constant Mean   Adj. R-squared:                 -0.000\n",
       "Vol Model:                      GARCH   Log-Likelihood:               -7534.45\n",
       "Distribution:                  Normal   AIC:                           15076.9\n",
       "Method:            Maximum Likelihood   BIC:                           15103.9\n",
       "                                        No. Observations:                 6228\n",
       "Date:                Thu, Nov 02 2017   Df Residuals:                     6224\n",
       "Time:                        18:01:46   Df Model:                            4\n",
       "                                 Mean Model                                 \n",
       "============================================================================\n",
       "                 coef    std err          t      P>|t|      95.0% Conf. Int.\n",
       "----------------------------------------------------------------------------\n",
       "mu             0.0431  9.923e-03      4.340  1.423e-05 [2.362e-02,6.252e-02]\n",
       "                              Volatility Model                              \n",
       "============================================================================\n",
       "                 coef    std err          t      P>|t|      95.0% Conf. Int.\n",
       "----------------------------------------------------------------------------\n",
       "omega      4.9051e-03  1.686e-03      2.909  3.624e-03 [1.600e-03,8.210e-03]\n",
       "alpha[1]       0.0363  6.482e-03      5.600  2.143e-08 [2.360e-02,4.901e-02]\n",
       "beta[1]        0.9575  7.505e-03    127.579      0.000     [  0.943,  0.972]\n",
       "============================================================================\n",
       "\n",
       "Covariance estimator: robust\n",
       "ARCHModelResult, id: 0x10cfa55c0>"
      ]
     },
     "execution_count": 20,
     "metadata": {},
     "output_type": "execute_result"
    }
   ],
   "source": [
    "res_2.summary"
   ]
  },
  {
   "cell_type": "code",
   "execution_count": null,
   "metadata": {
    "collapsed": true
   },
   "outputs": [],
   "source": []
  }
 ],
 "metadata": {
  "kernelspec": {
   "display_name": "Python 3",
   "language": "python",
   "name": "python3"
  },
  "language_info": {
   "codemirror_mode": {
    "name": "ipython",
    "version": 3
   },
   "file_extension": ".py",
   "mimetype": "text/x-python",
   "name": "python",
   "nbconvert_exporter": "python",
   "pygments_lexer": "ipython3",
   "version": "3.6.1"
  }
 },
 "nbformat": 4,
 "nbformat_minor": 2
}
