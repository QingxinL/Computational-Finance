{
 "cells": [
  {
   "cell_type": "code",
   "execution_count": 1,
   "metadata": {
    "collapsed": true
   },
   "outputs": [],
   "source": [
    "import pandas as pd\n",
    "import numpy as np\n",
    "import scipy\n",
    "import matplotlib.pyplot as plt\n",
    "import seaborn as sns \n",
    "%matplotlib inline \n",
    "import datetime\n",
    "import calendar"
   ]
  },
  {
   "cell_type": "markdown",
   "metadata": {},
   "source": [
    "### 1997 - 2007, 2007 - end of 2008, 2009 - 2017 (ALL S&P 500)\n",
    "#### (with Ordinary Least Square)"
   ]
  },
  {
   "cell_type": "markdown",
   "metadata": {},
   "source": [
    "### 1997 - 2007: "
   ]
  },
  {
   "cell_type": "code",
   "execution_count": 20,
   "metadata": {
    "collapsed": true
   },
   "outputs": [],
   "source": [
    "before_crisis = pd.read_csv('/Users/Lee/Desktop/research-1/^GSPC_1997-2007.csv')"
   ]
  },
  {
   "cell_type": "code",
   "execution_count": 21,
   "metadata": {
    "collapsed": true
   },
   "outputs": [],
   "source": [
    "def clean_data(df):\n",
    "    df.Date = pd.to_datetime(df.Date)\n",
    "\n",
    "    df['day_of_week'] = df['Date'].dt.weekday_name\n",
    "\n",
    "    df = df.drop(['High','Low','Close','Volume'],axis=1)\n",
    "\n",
    "    df['Consecutive trading day'] = df['day_of_week'].shift(1) + ' to ' + df['day_of_week']\n",
    "\n",
    "    df['Overnight return'] = (df['Open'] - df['Adj Close'].shift(1)/df['Adj Close'].shift(1))*100\n",
    "    \n",
    "    df['Intraday return'] = (df['Adj Close'] - df['Open'])/df['Open']*100\n",
    "    \n",
    "    df = df.dropna()\n",
    "\n",
    "    return df"
   ]
  },
  {
   "cell_type": "code",
   "execution_count": 22,
   "metadata": {
    "collapsed": true
   },
   "outputs": [],
   "source": [
    "before_crisis = clean_data(before_crisis)"
   ]
  },
  {
   "cell_type": "code",
   "execution_count": 23,
   "metadata": {
    "collapsed": true
   },
   "outputs": [],
   "source": [
    "import statsmodels.api as sm"
   ]
  },
  {
   "cell_type": "code",
   "execution_count": 24,
   "metadata": {
    "collapsed": true
   },
   "outputs": [],
   "source": [
    "def do_OLS(df):\n",
    "    df = df.join(pd.get_dummies(df['day_of_week']))\n",
    "    df['Difference in return'] = df['Intraday return'] - df['Intraday return'].shift(1)\n",
    "    df = df.dropna()\n",
    "    days = df[['Monday','Tuesday','Wednesday','Thursday','Friday']]\n",
    "    days = sm.add_constant(days)\n",
    "\n",
    "    OLS = sm.OLS(df['Difference in return'],days)\n",
    "    \n",
    "    result = OLS.fit()\n",
    "    \n",
    "    return result.params\n",
    "    \n",
    "    \n",
    "    "
   ]
  },
  {
   "cell_type": "code",
   "execution_count": 25,
   "metadata": {
    "collapsed": true
   },
   "outputs": [],
   "source": [
    "before_crisis_summary = do_OLS(before_crisis)"
   ]
  },
  {
   "cell_type": "code",
   "execution_count": 26,
   "metadata": {},
   "outputs": [
    {
     "data": {
      "text/plain": [
       "const       -0.000350\n",
       "Monday       0.027897\n",
       "Tuesday      0.009051\n",
       "Wednesday   -0.013033\n",
       "Thursday    -0.013020\n",
       "Friday      -0.011245\n",
       "dtype: float64"
      ]
     },
     "execution_count": 26,
     "metadata": {},
     "output_type": "execute_result"
    }
   ],
   "source": [
    "before_crisis_summary"
   ]
  },
  {
   "cell_type": "markdown",
   "metadata": {},
   "source": [
    "### Before 2007, Monday has the highest return (0.0279), Wednesday has the lowest return (-0.01303), agreed with the paper"
   ]
  },
  {
   "cell_type": "markdown",
   "metadata": {},
   "source": [
    "### 2007 - end of 2008"
   ]
  },
  {
   "cell_type": "code",
   "execution_count": 17,
   "metadata": {
    "collapsed": true
   },
   "outputs": [],
   "source": [
    "during_crisis = pd.read_csv('/Users/Lee/Desktop/research-1/^GSPC_2007-2008.csv')"
   ]
  },
  {
   "cell_type": "code",
   "execution_count": 18,
   "metadata": {
    "collapsed": true
   },
   "outputs": [],
   "source": [
    "during_crisis = clean_data(during_crisis)"
   ]
  },
  {
   "cell_type": "code",
   "execution_count": 27,
   "metadata": {
    "collapsed": true
   },
   "outputs": [],
   "source": [
    "during_crisis_summary = do_OLS(during_crisis)"
   ]
  },
  {
   "cell_type": "code",
   "execution_count": 28,
   "metadata": {},
   "outputs": [
    {
     "data": {
      "text/plain": [
       "const        0.000499\n",
       "Monday      -0.277651\n",
       "Tuesday      0.410449\n",
       "Wednesday   -0.370111\n",
       "Thursday     0.060516\n",
       "Friday       0.177296\n",
       "dtype: float64"
      ]
     },
     "execution_count": 28,
     "metadata": {},
     "output_type": "execute_result"
    }
   ],
   "source": [
    "during_crisis_summary"
   ]
  },
  {
   "cell_type": "markdown",
   "metadata": {},
   "source": [
    "### From 2007 to end of 2008, Tuesday has the highest return (0.41), Wednesday has the lowest return (-0.37) - different from other time period"
   ]
  },
  {
   "cell_type": "markdown",
   "metadata": {},
   "source": [
    "### 2009 - 2017 "
   ]
  },
  {
   "cell_type": "code",
   "execution_count": 29,
   "metadata": {
    "collapsed": true
   },
   "outputs": [],
   "source": [
    "after_till_now = pd.read_csv('/Users/Lee/Desktop/research-1/^GSPC_2009-now.csv')"
   ]
  },
  {
   "cell_type": "code",
   "execution_count": 30,
   "metadata": {
    "collapsed": true
   },
   "outputs": [],
   "source": [
    "after_till_now = clean_data(after_till_now)\n",
    "after_till_now_summary = do_OLS(after_till_now)"
   ]
  },
  {
   "cell_type": "code",
   "execution_count": 31,
   "metadata": {},
   "outputs": [
    {
     "data": {
      "text/plain": [
       "const       -0.000121\n",
       "Monday       0.007463\n",
       "Tuesday      0.059266\n",
       "Wednesday    0.003941\n",
       "Thursday    -0.004227\n",
       "Friday      -0.066564\n",
       "dtype: float64"
      ]
     },
     "execution_count": 31,
     "metadata": {},
     "output_type": "execute_result"
    }
   ],
   "source": [
    "after_till_now_summary"
   ]
  },
  {
   "cell_type": "markdown",
   "metadata": {},
   "source": [
    "### After 2009, Tuesday has the highest return (0.593), Friday has the lowest return (-0.067)"
   ]
  },
  {
   "cell_type": "code",
   "execution_count": null,
   "metadata": {
    "collapsed": true
   },
   "outputs": [],
   "source": []
  }
 ],
 "metadata": {
  "kernelspec": {
   "display_name": "Python 3",
   "language": "python",
   "name": "python3"
  },
  "language_info": {
   "codemirror_mode": {
    "name": "ipython",
    "version": 3
   },
   "file_extension": ".py",
   "mimetype": "text/x-python",
   "name": "python",
   "nbconvert_exporter": "python",
   "pygments_lexer": "ipython3",
   "version": "3.6.1"
  }
 },
 "nbformat": 4,
 "nbformat_minor": 2
}
